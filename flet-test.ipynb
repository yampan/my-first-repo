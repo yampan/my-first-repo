{
 "cells": [
  {
   "cell_type": "markdown",
   "id": "5a4e6bd9-342b-4adf-ac04-c40cd56a16b4",
   "metadata": {},
   "source": [
    "# **<font color=darkgreen>Python + GUI (TEST)**\n",
    "## **<font color=red>flet は jupyter環境では動作NG**"
   ]
  },
  {
   "cell_type": "code",
   "execution_count": null,
   "id": "cd0d7008-a806-49f5-9719-a73f07c8cf2f",
   "metadata": {},
   "outputs": [],
   "source": [
    "!python3 -m pip install flet"
   ]
  },
  {
   "cell_type": "code",
   "execution_count": 1,
   "id": "036aa5d3-01bd-4d85-a522-2c9c6fada894",
   "metadata": {},
   "outputs": [
    {
     "ename": "RuntimeError",
     "evalue": "asyncio.run() cannot be called from a running event loop",
     "output_type": "error",
     "traceback": [
      "\u001b[0;31m---------------------------------------------------------------------------\u001b[0m",
      "\u001b[0;31mRuntimeError\u001b[0m                              Traceback (most recent call last)",
      "Cell \u001b[0;32mIn[1], line 27\u001b[0m\n\u001b[1;32m     11\u001b[0m     \u001b[38;5;66;03m# 部品を配置する\u001b[39;00m\n\u001b[1;32m     12\u001b[0m     page\u001b[38;5;241m.\u001b[39madd(\n\u001b[1;32m     13\u001b[0m         ft\u001b[38;5;241m.\u001b[39mColumn(\n\u001b[1;32m     14\u001b[0m             [\n\u001b[0;32m   (...)\u001b[0m\n\u001b[1;32m     24\u001b[0m         )\n\u001b[1;32m     25\u001b[0m     )\n\u001b[0;32m---> 27\u001b[0m \u001b[43mft\u001b[49m\u001b[38;5;241;43m.\u001b[39;49m\u001b[43mapp\u001b[49m\u001b[43m(\u001b[49m\u001b[43mtarget\u001b[49m\u001b[38;5;241;43m=\u001b[39;49m\u001b[43mmain\u001b[49m\u001b[43m)\u001b[49m\n",
      "File \u001b[0;32m/opt/conda/lib/python3.11/site-packages/flet_runtime/app.py:70\u001b[0m, in \u001b[0;36mapp\u001b[0;34m(target, name, host, port, view, assets_dir, upload_dir, web_renderer, use_color_emoji, route_url_strategy, export_asgi_app)\u001b[0m\n\u001b[1;32m     58\u001b[0m     \u001b[38;5;28;01mfrom\u001b[39;00m \u001b[38;5;21;01mflet\u001b[39;00m\u001b[38;5;21;01m.\u001b[39;00m\u001b[38;5;21;01mfastapi\u001b[39;00m\u001b[38;5;21;01m.\u001b[39;00m\u001b[38;5;21;01mserve_fastapi_web_app\u001b[39;00m \u001b[38;5;28;01mimport\u001b[39;00m get_fastapi_web_app\n\u001b[1;32m     60\u001b[0m     \u001b[38;5;28;01mreturn\u001b[39;00m get_fastapi_web_app(\n\u001b[1;32m     61\u001b[0m         session_handler\u001b[38;5;241m=\u001b[39mtarget,\n\u001b[1;32m     62\u001b[0m         page_name\u001b[38;5;241m=\u001b[39m__get_page_name(name),\n\u001b[0;32m   (...)\u001b[0m\n\u001b[1;32m     67\u001b[0m         route_url_strategy\u001b[38;5;241m=\u001b[39mroute_url_strategy,\n\u001b[1;32m     68\u001b[0m     )\n\u001b[0;32m---> 70\u001b[0m \u001b[38;5;28;01mreturn\u001b[39;00m \u001b[43masyncio\u001b[49m\u001b[38;5;241;43m.\u001b[39;49m\u001b[43mrun\u001b[49m\u001b[43m(\u001b[49m\n\u001b[1;32m     71\u001b[0m \u001b[43m    \u001b[49m\u001b[43mapp_async\u001b[49m\u001b[43m(\u001b[49m\n\u001b[1;32m     72\u001b[0m \u001b[43m        \u001b[49m\u001b[43mtarget\u001b[49m\u001b[38;5;241;43m=\u001b[39;49m\u001b[43mtarget\u001b[49m\u001b[43m,\u001b[49m\n\u001b[1;32m     73\u001b[0m \u001b[43m        \u001b[49m\u001b[43mname\u001b[49m\u001b[38;5;241;43m=\u001b[39;49m\u001b[43mname\u001b[49m\u001b[43m,\u001b[49m\n\u001b[1;32m     74\u001b[0m \u001b[43m        \u001b[49m\u001b[43mhost\u001b[49m\u001b[38;5;241;43m=\u001b[39;49m\u001b[43mhost\u001b[49m\u001b[43m,\u001b[49m\n\u001b[1;32m     75\u001b[0m \u001b[43m        \u001b[49m\u001b[43mport\u001b[49m\u001b[38;5;241;43m=\u001b[39;49m\u001b[43mport\u001b[49m\u001b[43m,\u001b[49m\n\u001b[1;32m     76\u001b[0m \u001b[43m        \u001b[49m\u001b[43mview\u001b[49m\u001b[38;5;241;43m=\u001b[39;49m\u001b[43mview\u001b[49m\u001b[43m,\u001b[49m\n\u001b[1;32m     77\u001b[0m \u001b[43m        \u001b[49m\u001b[43massets_dir\u001b[49m\u001b[38;5;241;43m=\u001b[39;49m\u001b[43massets_dir\u001b[49m\u001b[43m,\u001b[49m\n\u001b[1;32m     78\u001b[0m \u001b[43m        \u001b[49m\u001b[43mupload_dir\u001b[49m\u001b[38;5;241;43m=\u001b[39;49m\u001b[43mupload_dir\u001b[49m\u001b[43m,\u001b[49m\n\u001b[1;32m     79\u001b[0m \u001b[43m        \u001b[49m\u001b[43mweb_renderer\u001b[49m\u001b[38;5;241;43m=\u001b[39;49m\u001b[43mweb_renderer\u001b[49m\u001b[43m,\u001b[49m\n\u001b[1;32m     80\u001b[0m \u001b[43m        \u001b[49m\u001b[43muse_color_emoji\u001b[49m\u001b[38;5;241;43m=\u001b[39;49m\u001b[43muse_color_emoji\u001b[49m\u001b[43m,\u001b[49m\n\u001b[1;32m     81\u001b[0m \u001b[43m        \u001b[49m\u001b[43mroute_url_strategy\u001b[49m\u001b[38;5;241;43m=\u001b[39;49m\u001b[43mroute_url_strategy\u001b[49m\u001b[43m,\u001b[49m\n\u001b[1;32m     82\u001b[0m \u001b[43m    \u001b[49m\u001b[43m)\u001b[49m\n\u001b[1;32m     83\u001b[0m \u001b[43m\u001b[49m\u001b[43m)\u001b[49m\n",
      "File \u001b[0;32m/opt/conda/lib/python3.11/asyncio/runners.py:186\u001b[0m, in \u001b[0;36mrun\u001b[0;34m(main, debug)\u001b[0m\n\u001b[1;32m    161\u001b[0m \u001b[38;5;250m\u001b[39m\u001b[38;5;124;03m\"\"\"Execute the coroutine and return the result.\u001b[39;00m\n\u001b[1;32m    162\u001b[0m \n\u001b[1;32m    163\u001b[0m \u001b[38;5;124;03mThis function runs the passed coroutine, taking care of\u001b[39;00m\n\u001b[0;32m   (...)\u001b[0m\n\u001b[1;32m    182\u001b[0m \u001b[38;5;124;03m    asyncio.run(main())\u001b[39;00m\n\u001b[1;32m    183\u001b[0m \u001b[38;5;124;03m\"\"\"\u001b[39;00m\n\u001b[1;32m    184\u001b[0m \u001b[38;5;28;01mif\u001b[39;00m events\u001b[38;5;241m.\u001b[39m_get_running_loop() \u001b[38;5;129;01mis\u001b[39;00m \u001b[38;5;129;01mnot\u001b[39;00m \u001b[38;5;28;01mNone\u001b[39;00m:\n\u001b[1;32m    185\u001b[0m     \u001b[38;5;66;03m# fail fast with short traceback\u001b[39;00m\n\u001b[0;32m--> 186\u001b[0m     \u001b[38;5;28;01mraise\u001b[39;00m \u001b[38;5;167;01mRuntimeError\u001b[39;00m(\n\u001b[1;32m    187\u001b[0m         \u001b[38;5;124m\"\u001b[39m\u001b[38;5;124masyncio.run() cannot be called from a running event loop\u001b[39m\u001b[38;5;124m\"\u001b[39m)\n\u001b[1;32m    189\u001b[0m \u001b[38;5;28;01mwith\u001b[39;00m Runner(debug\u001b[38;5;241m=\u001b[39mdebug) \u001b[38;5;28;01mas\u001b[39;00m runner:\n\u001b[1;32m    190\u001b[0m     \u001b[38;5;28;01mreturn\u001b[39;00m runner\u001b[38;5;241m.\u001b[39mrun(main)\n",
      "\u001b[0;31mRuntimeError\u001b[0m: asyncio.run() cannot be called from a running event loop"
     ]
    }
   ],
   "source": [
    "# 【Python×Flet】かっこいいGUIアプリを作ろう\n",
    "# https://runrunsketch.net/flet-intro/\n",
    "import flet as ft\n",
    "\n",
    "def main(page: ft.Page):\n",
    "    page.title = \"サンプルプログラム\"  # タイトル\n",
    "    page.window_width = 600  # 幅\n",
    "    page.window_height = 300  # 高さ\n",
    "    page.theme = ft.Theme(color_scheme_seed=\"green\")\n",
    "\n",
    "    # 部品を配置する\n",
    "    page.add(\n",
    "        ft.Column(\n",
    "            [\n",
    "                ft.Text(\"ここは1行目\"),\n",
    "                ft.Row(\n",
    "                    [\n",
    "                        ft.Text(\"ここは2行目\"),\n",
    "                        ft.TextField(hint_text=\"文字を入力してください\"),\n",
    "                    ]\n",
    "                ),\n",
    "                ft.Row([ft.ElevatedButton(\"OK\"), ft.ElevatedButton(\"キャンセル\")]),\n",
    "            ]\n",
    "        )\n",
    "    )\n",
    "\n",
    "ft.app(target=main)\n"
   ]
  },
  {
   "cell_type": "code",
   "execution_count": null,
   "id": "56ca5881-b3d6-4351-af8c-ef7d1bdc3afe",
   "metadata": {},
   "outputs": [],
   "source": []
  },
  {
   "cell_type": "code",
   "execution_count": null,
   "id": "f74afc5a-76cd-4c90-86ba-0d316ffbf6c5",
   "metadata": {},
   "outputs": [],
   "source": []
  },
  {
   "cell_type": "code",
   "execution_count": null,
   "id": "d4e60023-8933-4698-bdeb-7fb520ad40bd",
   "metadata": {},
   "outputs": [],
   "source": [
    "# flet\n",
    "# https://qiita.com/ForestMountain1234/items/bc709c3599ee86e2a0dd"
   ]
  },
  {
   "cell_type": "code",
   "execution_count": null,
   "id": "ec5bcce2-fc99-4465-977f-40b0f7665f29",
   "metadata": {},
   "outputs": [],
   "source": [
    "# flet-2.py    **** NG ****\n",
    "import flet as ft\n",
    "\n",
    "def home():\n",
    "    #このようにControl内に他のControlを入れる事が出来る。\n",
    "    return ft.View(\"/home\", [\n",
    "        ft.Text('click'),\n",
    "        ft.ElevatedButton(content=text, on_click=lambda _: print('clickされたよ'))\n",
    "    ])\n",
    "\n",
    "def main(page: ft.Page):\n",
    "    # レイアウト\n",
    "    page.title = \"Navigation and routing\"\n",
    "    page.window_width = 1000\n",
    "    page.window_height = 800\n",
    "\n",
    "    # 初期表示\n",
    "    page.view.append(home())#ホーム画面(view)を表示\n",
    "\n",
    "ft.app(target=main)\n"
   ]
  },
  {
   "cell_type": "code",
   "execution_count": null,
   "id": "ff5cd32e-24dd-4b93-87a5-dac93a9291f2",
   "metadata": {},
   "outputs": [],
   "source": []
  },
  {
   "cell_type": "code",
   "execution_count": null,
   "id": "46679f66-6ea6-4c5b-a96e-5ca51eb9120c",
   "metadata": {},
   "outputs": [],
   "source": []
  }
 ],
 "metadata": {
  "kernelspec": {
   "display_name": "Python 3 (ipykernel)",
   "language": "python",
   "name": "python3"
  },
  "language_info": {
   "codemirror_mode": {
    "name": "ipython",
    "version": 3
   },
   "file_extension": ".py",
   "mimetype": "text/x-python",
   "name": "python",
   "nbconvert_exporter": "python",
   "pygments_lexer": "ipython3",
   "version": "3.11.6"
  }
 },
 "nbformat": 4,
 "nbformat_minor": 5
}
